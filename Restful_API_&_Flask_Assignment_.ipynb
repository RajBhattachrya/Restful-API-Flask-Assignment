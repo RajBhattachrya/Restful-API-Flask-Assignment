{
  "nbformat": 4,
  "nbformat_minor": 0,
  "metadata": {
    "colab": {
      "provenance": []
    },
    "kernelspec": {
      "name": "python3",
      "display_name": "Python 3"
    },
    "language_info": {
      "name": "python"
    }
  },
  "cells": [
    {
      "cell_type": "markdown",
      "source": [
        "# Restful API & Flask"
      ],
      "metadata": {
        "id": "TA28OHiepMRC"
      }
    },
    {
      "cell_type": "markdown",
      "source": [
        "**1.What is a RESTful API?**\n",
        "\n",
        "ans-A RESTful API (Representational State Transfer) is an architectural style for designing networked applications. It relies on HTTP methods, such as GET, POST, PUT, and DELETE, to interact with resources in a stateless manner. RESTful APIs use URLs to identify resources and typically return data in formats like JSON or XML.\n"
      ],
      "metadata": {
        "id": "38M8OpDCeLbm"
      }
    },
    {
      "cell_type": "markdown",
      "source": [
        "**2.Explain the concept of API specification?**\n",
        "\n",
        "ans-An API specification defines how an API should function, including its endpoints, request and response formats, authentication methods, and error handling. It serves as a blueprint that developers use to implement and interact with an API consistently.\n",
        "\n",
        "**Key Components of an API Specification:**\n",
        "- Endpoints: Defines the available URLs and their functions (e.g., /users, /orders).\n",
        "- Methods: Specifies HTTP methods like GET, POST, PUT, DELETE.\n",
        "- Request & Response Formats: Describes the expected request parameters and response structure (usually in JSON or XML).\n",
        "- Authentication & Security: Outlines how users authenticate (OAuth, API keys) and security measures.\n",
        "- Error Codes & Messages: Provides a list of possible errors and their meanings.\n",
        "- Rate Limits: Specifies usage limits to prevent excessive requests.\n",
        "\n",
        "\n"
      ],
      "metadata": {
        "id": "o_d3c65teLZf"
      }
    },
    {
      "cell_type": "markdown",
      "source": [
        "**3.What is Flask, and why is it popular for building APIs?**\n",
        "\n",
        "ans-Flask is a lightweight and flexible web framework for Python that is commonly used to build RESTful APIs. It provides the essential tools needed for web development without unnecessary complexity, making it a great choice for beginners and experienced developers alike.\n",
        "\n",
        "**Why is Flask popular for building APIs?**\n",
        "- Minimal & Simple: Flask has a small footprint and doesn’t enforce strict structures, allowing developers to customize it freely.\n",
        "- Easy to Learn: Its straightforward syntax makes API development accessible.\n",
        "- Extensible: Supports various extensions for authentication, database interaction, and more.\n",
        "- Built-in Development Server: Comes with tools for debugging and testing.\n",
        "- Great for Microservices: Ideal for building small, independent services.\n",
        "- Fast Performance: The lightweight nature of Flask makes it efficient.\n",
        "\n",
        "\n"
      ],
      "metadata": {
        "id": "xaWnamwEeLWw"
      }
    },
    {
      "cell_type": "markdown",
      "source": [
        "**4.What is routing in Flask?**\n",
        "\n",
        "ans-In Flask, routing refers to the process of defining URLs that trigger specific functions in a web application. It allows developers to create endpoints that handle user requests and return responses.\n",
        "How Routing Works in Flask:\n",
        "- Defining Routes: Flask uses the @app.route() decorator to associate URLs with Python functions.\n",
        "- Dynamic URLs: Routes can include variables, allowing flexible user interactions.\n",
        "- Handling HTTP Methods: Routes can specify whether they accept GET, POST, PUT, or DELETE requests.\n",
        "\n",
        "\n"
      ],
      "metadata": {
        "id": "GPHl7yV-eLUv"
      }
    },
    {
      "cell_type": "markdown",
      "source": [
        "**5.How do you create a simple Flask application?**\n",
        "\n",
        "ans-"
      ],
      "metadata": {
        "id": "hFYUcJT4eLSe"
      }
    },
    {
      "cell_type": "code",
      "source": [
        "# Install Flask\n",
        "pip install flask"
      ],
      "metadata": {
        "id": "MoM5qD4lmbqY"
      },
      "execution_count": null,
      "outputs": []
    },
    {
      "cell_type": "code",
      "source": [
        "#Create a Basic Flask App\n",
        "from flask import Flask\n",
        "\n",
        "app = Flask(__name__)\n",
        "\n",
        "@app.route('/')\n",
        "def home():\n",
        "    return \"Hello, Flask!\"  # Simple response\n",
        "\n",
        "if __name__ == '__main__':\n",
        "    app.run(debug=True)  # Runs the app in debug mode"
      ],
      "metadata": {
        "id": "rylLDqa-miCk"
      },
      "execution_count": null,
      "outputs": []
    },
    {
      "cell_type": "markdown",
      "source": [
        "Then, Run Your Flask App\n",
        "In your terminal, navigate to the file location and run:\n",
        "python app.py\n",
        "\n",
        "\n",
        "Now, open your browser and go to http://127.0.0.1:5000/ to see \"Hello, Flask!\".\n",
        "\n",
        "**How It Works**\n",
        "\n",
        "* Flask initializes with Flask(__name__).\n",
        "* The @app.route('/') decorator defines the homepage.\n",
        "* The run(debug=True) allows live debugging.\n",
        "\n",
        "This is the easiest way to start a Flask app!"
      ],
      "metadata": {
        "id": "L3k5uKvhmvlp"
      }
    },
    {
      "cell_type": "markdown",
      "source": [
        "**6.What are HTTP methods used in RESTful APIs?**\n",
        "\n",
        "ans-In RESTful APIs, HTTP methods define actions that clients can perform on server resources. The most commonly used methods are:\n",
        "1. GET\n",
        "- Retrieves data from the server.\n",
        "- Example: Fetching user details (GET /users/123).\n",
        "\n",
        "2. POST\n",
        "- Creates a new resource on the server.\n",
        "- Example: Adding a new user (POST /users with user data in the request body).\n",
        "\n",
        "3. PUT\n",
        "- Updates an existing resource or replaces it entirely.\n",
        "- Example: Updating user details (PUT /users/123).\n",
        "\n",
        "4. PATCH\n",
        "- Partially updates an existing resource (modifies specific fields).\n",
        "- Example: Changing only the email of a user (PATCH /users/123).\n",
        "\n",
        "5. DELETE\n",
        "- Removes a resource from the server.\n",
        "- Example: Deleting a user (DELETE /users/123).\n",
        "\n",
        "\n"
      ],
      "metadata": {
        "id": "vk-CgYmpeLPP"
      }
    },
    {
      "cell_type": "markdown",
      "source": [
        "**7.What is the purpose of the @app.route() decorator in Flask?**\n",
        "\n",
        "ans-The @app.route() decorator in Flask is used to define routes, which are URLs that trigger specific functions in a web application. It helps associate a URL path with a Python function, making it easy to handle user requests.\n",
        "Purpose of @app.route()\n",
        "- Defines URLs: It maps a function to a specific URL so that visiting the URL executes the function.\n",
        "- Handles Requests: Specifies which function should be called when a client makes a request.\n",
        "- Supports Dynamic Routing: Allows variables in URLs to handle dynamic data.\n",
        "- Manages HTTP Methods: Can restrict routes to specific HTTP methods like GET, POST, etc.\n",
        "\n",
        "\n"
      ],
      "metadata": {
        "id": "Xh0brf45eLL-"
      }
    },
    {
      "cell_type": "markdown",
      "source": [
        "**8.What is the difference between GET and POST HTTP methods?**\n",
        "\n",
        "ans-GET vs. POST HTTP Methods\n",
        "Both GET and POST are commonly used HTTP methods in RESTful APIs, but they serve different purposes.\n",
        "* GET Method\n",
        " - Purpose: Used to retrieve data from the server.\n",
        " - Parameters: Data is sent via the URL query string (e.g., /users?name=John).\n",
        " - Visibility: Parameters are visible in the URL.\n",
        " - Caching: Responses can be cached by browsers and servers.\n",
        " - Idempotent: Multiple GET requests do not change the server’s state.\n",
        "* POST Method\n",
        " - Purpose: Used to send data to the server (e.g., create a new resource).\n",
        " - Parameters: Data is sent in the body of the request.\n",
        " - Visibility: Parameters are hidden (not visible in the URL).\n",
        " - Caching: Not typically cached.\n",
        " - Not Idempotent: Multiple POST requests create multiple resources.\n",
        "\n",
        "\n",
        "\n",
        "\n",
        "\n",
        "\n",
        "\n"
      ],
      "metadata": {
        "id": "semAEvk5eLKG"
      }
    },
    {
      "cell_type": "markdown",
      "source": [
        "**9.How do you handle errors in Flask APIs?**\n",
        "\n",
        "ans-Handling errors in Flask APIs ensures that users receive meaningful responses when something goes wrong. Flask provides several ways to manage errors effectively.\n",
        "\n",
        "\n",
        "Best Practices for Error Handling\n",
        "* Use meaningful error messages\n",
        "*  Return proper HTTP status codes\n",
        "* Log errors for debugging\n",
        "* Provide user-friendly responses\n",
        "Would you like me to show how to handle errors in a complete Flask API project? Let’s build something cool together!\n"
      ],
      "metadata": {
        "id": "kxbGwZH0eLHP"
      }
    },
    {
      "cell_type": "markdown",
      "source": [
        "**10.How do you connect Flask to a SQL database?**\n",
        "\n",
        "ans-Connecting Flask to a SQL database allows you to store and retrieve data efficiently. Flask supports various databases, but SQLite, PostgreSQL, and MySQL are popular choices. To interact with a SQL database, developers commonly use SQLAlchemy, a powerful Object-Relational Mapper (ORM) for Python.\n",
        "\n",
        "**Database Options**\n",
        "* SQLite: Lightweight and great for small apps.\n",
        "* PostgreSQL: Ideal for large-scale production systems.\n",
        "*  MySQL: A fast and widely-used relational database.\n"
      ],
      "metadata": {
        "id": "QEm803lVi4kI"
      }
    },
    {
      "cell_type": "markdown",
      "source": [
        "**11.What is the role of Flask-SQLAlchemy?**\n",
        "\n",
        "ans-Flask-SQLAlchemy is an extension for Flask that provides integration with SQLAlchemy, a powerful Object-Relational Mapper (ORM) for managing relational databases in Python applications.\n",
        "\n",
        "**Role of Flask-SQLAlchemy**\n",
        "- Simplifies Database Management: Allows you to interact with databases using Python instead of raw SQL queries.\n",
        "- ORM Features: Provides an easy way to define database models using Python classes.\n",
        "- Automatic Table Creation: Enables Flask apps to generate database tables based on models.\n",
        "- Session Management: Handles transactions, making database operations more efficient.\n",
        "- Querying Data Easily: Provides an intuitive way to retrieve, update, and delete records.\n",
        "- Supports Multiple Databases: Works with SQLite, PostgreSQL, MySQL, and other SQL databases.\n",
        "\n",
        "\n"
      ],
      "metadata": {
        "id": "5blVZVX2i5Dt"
      }
    },
    {
      "cell_type": "markdown",
      "source": [
        "**12.What are Flask blueprints, and how are they useful?**\n",
        "\n",
        "ans- Flask Blueprints are a way to structure and organize large Flask applications into modular components. Instead of keeping all routes and logic in a single file, you can use Blueprints to break your application into smaller, reusable pieces.\n",
        "\n",
        "**How Blueprints Work**\n",
        "\n",
        "A Blueprint is like a mini-application within Flask. You can define routes, templates, and static files within a Blueprint, and then register it with the main Flask app.\n",
        "\n",
        "**Why Use Flask Blueprints?**\n",
        "- Modularity: Allows breaking the app into independent modules (e.g., user authentication, blog posts, admin panel).\n",
        "- Scalability: Makes it easier to grow a Flask project without cluttering app.py.\n",
        "- Reusability: You can reuse the same Blueprint across multiple projects.\n",
        "- Better Organization: Keeps routes, views, and templates neatly separated.\n",
        "\n",
        "\n"
      ],
      "metadata": {
        "id": "yiySBducFu5d"
      }
    },
    {
      "cell_type": "markdown",
      "source": [
        "**13.What is the purpose of Flask's request object?**\n",
        "\n",
        "ans-Flask's request object is a global object that allows you to access data sent by a client (such as a web browser) to your Flask application. It is used to handle incoming HTTP requests and provides various attributes and methods to retrieve request-related information.\n",
        "\n",
        "**Key Uses of the request Object**\n",
        "- Accessing Request Data: You can retrieve form data, JSON payloads, and query parameters.\n",
        "- Handling HTTP Methods: It helps differentiate between GET, POST, PUT, DELETE, etc.\n",
        "- Retrieving Headers & Cookies: You can access request headers and cookies for authentication or session management.\n",
        "- Getting File Uploads: It supports handling uploaded files from forms.\n",
        "- Reading URL Paths & Arguments: Useful for extracting dynamic parameters from URLs.\n",
        "\n",
        "\n"
      ],
      "metadata": {
        "id": "vHwWJPdoFu33"
      }
    },
    {
      "cell_type": "markdown",
      "source": [
        "**14.How do you create a RESTful API endpoint using Flask?**\n",
        "\n",
        "ans- Creating a RESTful API endpoint in Flask is straightforward. Flask provides the flexibility to handle HTTP methods (GET, POST, PUT, DELETE) and route requests efficiently. Here's how you can set up a basic REST API:\n",
        "Steps to Create a RESTful API Endpoint in Flask\n"
      ],
      "metadata": {
        "id": "3wBgd7-PFu15"
      }
    },
    {
      "cell_type": "markdown",
      "source": [
        "Steps to Create a RESTful API Endpoint in Flask\n",
        "- Install Flask (if not installed)pip install flask\n",
        "\n",
        "- Create a Flask App and Define Routes:\n"
      ],
      "metadata": {
        "id": "2cCsr78eFuz0"
      }
    },
    {
      "cell_type": "code",
      "source": [
        "from flask import Flask, request, jsonify\n",
        "\n",
        "app = Flask(__name__)\n",
        "\n",
        "# Sample user data (like a small database)\n",
        "users = [{\"id\": 1, \"name\": \"Alice\"}, {\"id\": 2, \"name\": \"Bob\"}]\n",
        "\n",
        "# GET: Fetch all users\n",
        "@app.route('/users', methods=['GET'])\n",
        "def get_users():\n",
        "    return jsonify(users)\n",
        "\n",
        "# POST: Add a new user\n",
        "@app.route('/users', methods=['POST'])\n",
        "def add_user():\n",
        "    data = request.json  # Get JSON data from request\n",
        "    new_user = {\"id\": len(users) + 1, \"name\": data[\"name\"]}\n",
        "    users.append(new_user)\n",
        "    return jsonify(new_user), 201  # Return new user with status code 201 (Created)\n",
        "\n",
        "if __name__ == '__main__':\n",
        "    app.run(debug=True)"
      ],
      "metadata": {
        "id": "x_VcSeu9H8IW"
      },
      "execution_count": null,
      "outputs": []
    },
    {
      "cell_type": "markdown",
      "source": [
        "**15.What is the purpose of Flask's jsonify() function?**\n",
        "\n",
        "ans- Flask's jsonify() function is used to convert Python dictionaries, lists, or other serializable data types into JSON format, which is the standard format for exchanging data in web applications.\n",
        "\n",
        "**Why Use jsonify()?**\n",
        "- Automatically sets Content-Type to application/json (ensuring the response is recognized as JSON).\n",
        "- Handles serialization of complex data types (e.g., dictionaries and lists).\n",
        "- Makes API responses cleaner and structured.\n",
        "\n",
        "\n"
      ],
      "metadata": {
        "id": "N3daM4mNFux1"
      }
    },
    {
      "cell_type": "markdown",
      "source": [
        "**16.Explain Flask’s url_for() function?**\n",
        "\n",
        "ans-Flask’s url_for() function is used to dynamically build URLs for your application based on the names of view functions. Instead of hardcoding URLs in your templates or routes, url_for() helps keep links flexible and maintainable.\n",
        "\n",
        "**Why Use url_for()?**\n",
        "- Avoid Hardcoding URLs → If a route’s path changes, you won’t need to update every link manually.\n",
        "- Supports Dynamic Parameters → Easily pass arguments into URLs.\n",
        "- Works Well with Templates → Helps generate clean navigation links in HTML.\n",
        "\n",
        "\n"
      ],
      "metadata": {
        "id": "OTWurCgPFuv4"
      }
    },
    {
      "cell_type": "markdown",
      "source": [
        "**17.How does Flask handle static files (CSS, JavaScript, etc.)?**\n",
        "\n",
        "ans- Flask handles static files like CSS, JavaScript, and images by serving them from a dedicated static folder within your project structure.\n",
        "\n",
        "**How Flask Handles Static Files**\n",
        "- Flask automatically looks for a folder named static in your project directory.\n",
        "- You can store CSS, JavaScript, images, and other static assets inside this folder.\n",
        "- The files can be accessed via the /static/ route.\n",
        "\n",
        "\n"
      ],
      "metadata": {
        "id": "9CSFoQO2FutP"
      }
    },
    {
      "cell_type": "markdown",
      "source": [
        "**18.What is an API specification, and how does it help in building a Flask API?**\n",
        "\n",
        "ans- An API specification is a structured document that defines the behavior, endpoints, request-response formats, and authentication methods of an API. It serves as a blueprint, ensuring that clients (such as front-end applications) interact with the API consistently.\n",
        "\n",
        "**How API Specifications Help in Flask API Development**\n",
        "- Standardized API Design → Defines endpoints like /users and HTTP methods (GET, POST, DELETE).\n",
        "- Consistency & Clarity → Ensures developers understand how to use the API.\n",
        "- Interoperability → Facilitates integration with third-party applications.\n",
        "- Automated Documentation → Tools like Swagger (OpenAPI) generate interactive API docs.\n",
        "- Validation & Testing → Allows automated testing based on predefined request-response structures.\n",
        "\n",
        "\n"
      ],
      "metadata": {
        "id": "3yu4xc6mFulm"
      }
    },
    {
      "cell_type": "markdown",
      "source": [
        "**19.What are HTTP status codes, and why are they important in a Flask API?**\n",
        "\n",
        "ans-HTTP status codes are standard response codes that indicate the outcome of an HTTP request. They help clients (browsers, mobile apps, or APIs) understand if a request was successful, encountered an error, or requires further action.\n",
        "\n",
        "**Why Are HTTP Status Codes Important in a Flask API?**\n",
        "- Communicate Success or Errors → Proper status codes ensure clear communication between the client and server.\n",
        "- Improve Debugging → Helps developers quickly identify issues.\n",
        "- Standardization → Ensures consistent behavior across different services.\n",
        "- Enhances API Usability → Clients can react appropriately based on status codes.\n",
        "\n",
        "\n"
      ],
      "metadata": {
        "id": "1Xw3SNXsFuXH"
      }
    },
    {
      "cell_type": "markdown",
      "source": [
        "**20.How do you handle POST requests in Flask?**\n",
        "\n",
        "ans- Handling POST requests in Flask allows your application to receive data from a client, such as form submissions or JSON payloads. Flask provides the request object to access this data.\n",
        "\n",
        "**Steps to Handle a POST Request**\n",
        "- Define a route with methods=['POST'].\n",
        "- Use request.form for form data or request.json for JSON input.\n",
        "- Process the received data and return a response.\n",
        "\n",
        "\n"
      ],
      "metadata": {
        "id": "rBvrT6QzK7mA"
      }
    },
    {
      "cell_type": "markdown",
      "source": [
        "**21.How would you secure a Flask API?**\n",
        "\n",
        "ans-Securing a Flask API is essential to protect sensitive data, prevent unauthorized access, and safeguard against common vulnerabilities. Here are key strategies to enhance Flask API security:\n",
        "1. Use HTTPS\n",
        "- Always use HTTPS instead of HTTP to encrypt data transmitted between the client and the server.\n",
        "- In production, use tools like Let’s Encrypt or a trusted SSL certificate.\n",
        "\n",
        "\n"
      ],
      "metadata": {
        "id": "j2tBRansK7To"
      }
    },
    {
      "cell_type": "markdown",
      "source": [
        "2. Implement Authentication & Authorization\n",
        "- Use JWT (JSON Web Tokens) for token-based authentication:\n"
      ],
      "metadata": {
        "id": "0Q74IniKoG7I"
      }
    },
    {
      "cell_type": "code",
      "source": [
        "import jwt\n",
        "from datetime import datetime, timedelta\n",
        "\n",
        "secret_key = \"your_secret_key\"\n",
        "\n",
        "def generate_token(user_id):\n",
        "    payload = {\"user_id\": user_id, \"exp\": datetime.utcnow() + timedelta(hours=1)}\n",
        "    return jwt.encode(payload, secret_key, algorithm=\"HS256\")"
      ],
      "metadata": {
        "id": "bbHuic9CoQtb"
      },
      "execution_count": null,
      "outputs": []
    },
    {
      "cell_type": "markdown",
      "source": [
        "3. Validate & Sanitize User Input\n",
        "- Prevent SQL Injection by using SQLAlchemy ORM:\n",
        "\n",
        "\n"
      ],
      "metadata": {
        "id": "XJzws8DhoTkM"
      }
    },
    {
      "cell_type": "code",
      "source": [
        "User.query.filter_by(username=request.form.get('username')).first()"
      ],
      "metadata": {
        "id": "QwbVAtFcocLt"
      },
      "execution_count": null,
      "outputs": []
    },
    {
      "cell_type": "markdown",
      "source": [
        "4. Protect Against CSRF Attacks\n",
        "- Use Flask-WTF for form submissions:\n",
        "\n",
        "\n",
        "\n"
      ],
      "metadata": {
        "id": "BcE9Lpg-oicA"
      }
    },
    {
      "cell_type": "code",
      "source": [
        "from flask_wtf.csrf import CSRFProtect\n",
        "csrf = CSRFProtect(app)"
      ],
      "metadata": {
        "id": "XI5gaKgzovvg"
      },
      "execution_count": null,
      "outputs": []
    },
    {
      "cell_type": "markdown",
      "source": [
        "5. Implement Rate Limiting\n",
        "- Prevent abuse or brute-force attacks by limiting request rates:\n",
        "\n"
      ],
      "metadata": {
        "id": "NufAwjf3otdu"
      }
    },
    {
      "cell_type": "code",
      "source": [
        "from flask_limiter import Limiter\n",
        "\n",
        "limiter = Limiter(app, key_func=lambda: request.remote_addr)\n",
        "@app.route('/login')\n",
        "@limiter.limit(\"5 per minute\")  # Max 5 requests per minute\n",
        "def login():\n",
        "    return \"Login page\""
      ],
      "metadata": {
        "id": "JlyTWxOLoCv9"
      },
      "execution_count": null,
      "outputs": []
    },
    {
      "cell_type": "markdown",
      "source": [
        "etc."
      ],
      "metadata": {
        "id": "OJ82fRuxpApX"
      }
    },
    {
      "cell_type": "markdown",
      "source": [
        "**22.What is the significance of the Flask-RESTful extension?**\n",
        "\n",
        "ans- The Flask-RESTful extension is a powerful tool for building RESTful APIs with Flask. It simplifies API development by providing clear structure, automatic request parsing, and efficient response handling.\n",
        "\n",
        "**Why Is Flask-RESTful Important?**\n",
        "- Organizes API Resources → Defines API endpoints as Python classes for better modularity.\n",
        "- Supports Request Parsing → Easily handles JSON input and validation.\n",
        "- Enhances HTTP Response Handling → Simplifies returning status codes and error messages.\n",
        "- Integrates with Flask’s Routing → Works seamlessly with Flask’s built-in routes.\n",
        "\n",
        "\n"
      ],
      "metadata": {
        "id": "uIKpglkNK7Ih"
      }
    },
    {
      "cell_type": "markdown",
      "source": [
        "**23.What is the role of Flask’s session object?**\n",
        "\n",
        "ans-Flask’s session object is used to store and manage user-specific data across multiple requests. It allows web applications to maintain user states, preferences, or authentication details without requiring them to log in repeatedly.\n",
        "\n",
        "**Key Features of Flask's session Object**\n",
        "- Stores Temporary User Data → Saves information like login status, user preferences, or shopping cart items.\n",
        "- Persists Across Requests → Unlike regular variables, session data is available across different pages.\n",
        "- Secure by Default → Flask signs session data using a secret key to prevent tampering.\n",
        "- Uses Cookies → Stores session information in client-side cookies while maintaining integrity on the server.\n",
        "\n",
        "\n"
      ],
      "metadata": {
        "id": "nheNCwgoK6hy"
      }
    },
    {
      "cell_type": "markdown",
      "source": [
        "# Practical"
      ],
      "metadata": {
        "id": "Seq7IUy0jlCK"
      }
    },
    {
      "cell_type": "markdown",
      "source": [
        "**1.How do you create a basic Flask application?**\n",
        "\n"
      ],
      "metadata": {
        "id": "g8dic8tSjpbZ"
      }
    },
    {
      "cell_type": "code",
      "source": [
        "from flask import Flask\n",
        "\n",
        "app = Flask(__name__)  # Initialize Flask app\n",
        "\n",
        "@app.route(\"/\")  # Define the home route\n",
        "def home():\n",
        "    return \"Hello, Flask!\"\n",
        "\n",
        "if __name__ == \"__main__\":\n",
        "    app.run(debug=True)  # Run the application"
      ],
      "metadata": {
        "id": "wgMMHC8jjo69"
      },
      "execution_count": null,
      "outputs": []
    },
    {
      "cell_type": "markdown",
      "source": [
        "**2.How do you serve static files like images or CSS in Flask?**"
      ],
      "metadata": {
        "id": "ww1VFk_Ij_o_"
      }
    },
    {
      "cell_type": "code",
      "source": [
        "/my_flask_app\n",
        "    ├── app.py\n",
        "    ├── static/\n",
        "    │   ├── css/\n",
        "    │   │   ├── style.css\n",
        "    │   ├── js/\n",
        "    │   │   ├── script.js\n",
        "    │   ├── images/\n",
        "    │       ├── logo.png\n",
        "    ├── templates/\n",
        "        ├── index.html"
      ],
      "metadata": {
        "id": "14jAdcalkAB4"
      },
      "execution_count": null,
      "outputs": []
    },
    {
      "cell_type": "code",
      "source": [
        "<link rel=\"stylesheet\" href=\"{{ url_for('static', filename='css/style.css') }}\">\n",
        "<script src=\"{{ url_for('static', filename='js/script.js') }}\"></script>\n",
        "<img src=\"{{ url_for('static', filename='images/logo.png') }}\" alt=\"Logo\">"
      ],
      "metadata": {
        "id": "Dpmt9bbDYwit"
      },
      "execution_count": null,
      "outputs": []
    },
    {
      "cell_type": "code",
      "source": [
        "from flask import Flask, send_from_directory\n",
        "\n",
        "app = Flask(__name__)\n",
        "\n",
        "@app.route('/static/<path:filename>')\n",
        "def serve_static(filename):\n",
        "    return send_from_directory('static', filename)\n",
        "\n",
        "if __name__ == '__main__':\n",
        "    app.run(debug=True)"
      ],
      "metadata": {
        "id": "yFUYLXcTYwzU"
      },
      "execution_count": null,
      "outputs": []
    },
    {
      "cell_type": "markdown",
      "source": [
        "**3.How do you define different routes with different HTTP methods in Flask?**"
      ],
      "metadata": {
        "id": "35ZlWSYWY_F4"
      }
    },
    {
      "cell_type": "code",
      "source": [
        "from flask import Flask, request\n",
        "\n",
        "app = Flask(__name__)\n",
        "\n",
        "@app.route('/user', methods=['GET', 'POST'])\n",
        "def user():\n",
        "    if request.method == 'GET':\n",
        "        return \"Fetching user data!\"\n",
        "    elif request.method == 'POST':\n",
        "        data = request.json\n",
        "        return f\"User {data['name']} created!\", 201\n",
        "\n",
        "if __name__ == '__main__':\n",
        "    app.run(debug=True)"
      ],
      "metadata": {
        "id": "E9PO2o-mZZXx"
      },
      "execution_count": null,
      "outputs": []
    },
    {
      "cell_type": "markdown",
      "source": [
        "**4.How do you render HTML templates in Flask?**"
      ],
      "metadata": {
        "id": "cFVcC7Y8ZdAp"
      }
    },
    {
      "cell_type": "code",
      "source": [
        "from flask import Flask, render_template\n",
        "\n",
        "app = Flask(__name__)\n",
        "\n",
        "@app.route('/')\n",
        "def home():\n",
        "    return render_template('index.html', title=\"Welcome\", username=\"Raj\")\n",
        "\n",
        "if __name__ == '__main__':\n",
        "    app.run(debug=True)"
      ],
      "metadata": {
        "id": "IaoOd0m_Zh6h"
      },
      "execution_count": null,
      "outputs": []
    },
    {
      "cell_type": "markdown",
      "source": [
        "**HTML**"
      ],
      "metadata": {
        "id": "ijY9j3_aZy5g"
      }
    },
    {
      "cell_type": "code",
      "source": [
        "<!DOCTYPE html>\n",
        "<html lang=\"en\">\n",
        "<head>\n",
        "    <title>{{ title }}</title>\n",
        "</head>\n",
        "<body>\n",
        "    <h1>Hello, {{ username }}!</h1>\n",
        "</body>\n",
        "</html>"
      ],
      "metadata": {
        "id": "hirX7OQvZr4s"
      },
      "execution_count": null,
      "outputs": []
    },
    {
      "cell_type": "markdown",
      "source": [
        "**5.How can you generate URLs for routes in Flask using url_for?**"
      ],
      "metadata": {
        "id": "0w3qbheWZ6Nh"
      }
    },
    {
      "cell_type": "code",
      "source": [
        "from flask import Flask, url_for\n",
        "\n",
        "app = Flask(__name__)\n",
        "\n",
        "@app.route('/profile/<username>')\n",
        "def profile(username):\n",
        "    return f\"Welcome, {username}!\"\n",
        "\n",
        "@app.route('/home')\n",
        "def home():\n",
        "    return f'Visit Profile: {url_for(\"profile\", username=\"Rahim\")}'  # Generates '/profile/Rahim'\n",
        "\n",
        "if __name__ == '__main__':\n",
        "    app.run(debug=True)"
      ],
      "metadata": {
        "id": "DlvP7bsJaBj8"
      },
      "execution_count": null,
      "outputs": []
    },
    {
      "cell_type": "markdown",
      "source": [
        "**6.How do you handle forms in Flask?**"
      ],
      "metadata": {
        "id": "wlrtbCJnafHS"
      }
    },
    {
      "cell_type": "code",
      "source": [
        "from flask import Flask, request, render_template\n",
        "\n",
        "app = Flask(__name__)\n",
        "\n",
        "@app.route('/', methods=['GET', 'POST'])\n",
        "def form():\n",
        "    if request.method == 'POST':\n",
        "        name = request.form.get('name')  # Get user input from the form\n",
        "        return f\"Hello, {name}!\"  # Display a response\n",
        "\n",
        "    return render_template('form.html')  # Serve the form page\n",
        "\n",
        "if __name__ == '__main__':\n",
        "    app.run(debug=True)"
      ],
      "metadata": {
        "id": "OpESUY_zhz1-"
      },
      "execution_count": null,
      "outputs": []
    },
    {
      "cell_type": "markdown",
      "source": [
        "**HTML**"
      ],
      "metadata": {
        "id": "Eir2syQVh_iX"
      }
    },
    {
      "cell_type": "code",
      "source": [
        "<!DOCTYPE html>\n",
        "<html lang=\"en\">\n",
        "<head>\n",
        "    <title>Flask Form</title>\n",
        "</head>\n",
        "<body>\n",
        "    <form method=\"POST\">\n",
        "        <label>Enter your name:</label>\n",
        "        <input type=\"text\" name=\"name\" required>\n",
        "        <button type=\"submit\">Submit</button>\n",
        "    </form>\n",
        "</body>\n",
        "</html>"
      ],
      "metadata": {
        "id": "TeM8d0HOh_MP"
      },
      "execution_count": null,
      "outputs": []
    },
    {
      "cell_type": "markdown",
      "source": [
        "**7.How can you validate form data in Flask?**"
      ],
      "metadata": {
        "id": "vXu5vWDKiHbX"
      }
    },
    {
      "cell_type": "code",
      "source": [
        "from flask import Flask, render_template, request\n",
        "from flask_wtf import FlaskForm\n",
        "from wtforms import StringField, EmailField, SubmitField\n",
        "from wtforms.validators import DataRequired, Email\n",
        "\n",
        "app = Flask(__name__)\n",
        "app.secret_key = \"super_secret_key\"  # Required for CSRF protection\n",
        "\n",
        "class UserForm(FlaskForm):\n",
        "    name = StringField(\"Name\", validators=[DataRequired()])\n",
        "    email = EmailField(\"Email\", validators=[DataRequired(), Email()])\n",
        "    submit = SubmitField(\"Submit\")\n",
        "\n",
        "@app.route('/', methods=['GET', 'POST'])\n",
        "def form():\n",
        "    form = UserForm()\n",
        "    if form.validate_on_submit():  # Checks if form inputs are valid\n",
        "        return f\"Hello, {form.name.data}! Your email is {form.email.data}.\"\n",
        "    return render_template('form.html', form=form)\n",
        "\n",
        "if __name__ == '__main__':\n",
        "    app.run(debug=True)"
      ],
      "metadata": {
        "id": "u4y4eHHhiNpj"
      },
      "execution_count": null,
      "outputs": []
    },
    {
      "cell_type": "markdown",
      "source": [
        "**HTML**"
      ],
      "metadata": {
        "id": "mhg5-7n7ilL3"
      }
    },
    {
      "cell_type": "code",
      "source": [
        "<!DOCTYPE html>\n",
        "<html lang=\"en\">\n",
        "<head>\n",
        "    <title>Form Validation</title>\n",
        "</head>\n",
        "<body>\n",
        "    <form method=\"POST\">\n",
        "        {{ form.hidden_tag() }}  <!-- CSRF Protection -->\n",
        "        <label>Name:</label> {{ form.name }}\n",
        "        <label>Email:</label> {{ form.email }}\n",
        "        {{ form.submit }}\n",
        "        {% for error in form.name.errors %}\n",
        "            <p style=\"color: red;\">{{ error }}</p>\n",
        "        {% endfor %}\n",
        "        {% for error in form.email.errors %}\n",
        "            <p style=\"color: red;\">{{ error }}</p>\n",
        "        {% endfor %}\n",
        "    </form>\n",
        "</body>\n",
        "</html>"
      ],
      "metadata": {
        "id": "IY-8lLj1ipRq"
      },
      "execution_count": null,
      "outputs": []
    },
    {
      "cell_type": "markdown",
      "source": [
        "**8.How do you manage sessions in Flask?**"
      ],
      "metadata": {
        "id": "gFD0v7YFi7fu"
      }
    },
    {
      "cell_type": "code",
      "source": [
        "from flask import Flask, session\n",
        "\n",
        "app = Flask(__name__)\n",
        "app.secret_key = \"secret\"  # Required for session security\n",
        "\n",
        "@app.route('/set')\n",
        "def set_session():\n",
        "    session['user'] = 'Raj'  # Store user data\n",
        "    return \"Session set!\"\n",
        "\n",
        "@app.route('/get')\n",
        "def get_session():\n",
        "    return f\"Hello, {session.get('user', 'Guest')}!\"  # Retrieve session data\n",
        "\n",
        "@app.route('/clear')\n",
        "def clear_session():\n",
        "    session.pop('user', None)  # Remove session data\n",
        "    return \"Session cleared!\"\n",
        "\n",
        "if __name__ == '__main__':\n",
        "    app.run(debug=True)"
      ],
      "metadata": {
        "id": "LVkY8g4UjAk9"
      },
      "execution_count": null,
      "outputs": []
    },
    {
      "cell_type": "markdown",
      "source": [
        "**9.How do you redirect to a different route in Flask?**"
      ],
      "metadata": {
        "id": "t3snk1rWjNwi"
      }
    },
    {
      "cell_type": "code",
      "source": [
        "from flask import Flask, redirect, url_for\n",
        "\n",
        "app = Flask(__name__)\n",
        "\n",
        "@app.route('/')\n",
        "def home():\n",
        "    return \"Welcome to the Home Page!\"\n",
        "\n",
        "@app.route('/login')\n",
        "def login():\n",
        "    return redirect(url_for('dashboard'))  # Redirect to '/dashboard'\n",
        "\n",
        "@app.route('/dashboard')\n",
        "def dashboard():\n",
        "    return \"Welcome to your Dashboard!\"\n",
        "\n",
        "if __name__ == '__main__':\n",
        "    app.run(debug=True)"
      ],
      "metadata": {
        "id": "i5qw-p5hjV5m"
      },
      "execution_count": null,
      "outputs": []
    },
    {
      "cell_type": "markdown",
      "source": [
        "**10.How do you handle errors in Flask (e.g., 404)?**"
      ],
      "metadata": {
        "id": "keRBc61MjiuU"
      }
    },
    {
      "cell_type": "code",
      "source": [
        "from flask import Flask\n",
        "\n",
        "app = Flask(__name__)\n",
        "\n",
        "@app.errorhandler(404)\n",
        "def not_found(error):\n",
        "    return \"Oops! Page not found.\", 404\n",
        "\n",
        "if __name__ == '__main__':\n",
        "    app.run(debug=True)"
      ],
      "metadata": {
        "id": "i7JdBiaTjnji"
      },
      "execution_count": null,
      "outputs": []
    },
    {
      "cell_type": "markdown",
      "source": [
        "**11.How do you structure a Flask app using Blueprints?**"
      ],
      "metadata": {
        "id": "eNTzbpzKj-iS"
      }
    },
    {
      "cell_type": "code",
      "source": [
        "#Project Structure\n",
        "/my_flask_app\n",
        "    ├── app.py  # Main app\n",
        "    ├── auth/\n",
        "    │   ├── __init__.py  # Blueprint setup\n",
        "    │   ├── routes.py  # Routes for authentication\n",
        "    ├── templates/\n",
        "    │   ├── login.html"
      ],
      "metadata": {
        "id": "ft7yuWP5kFt8"
      },
      "execution_count": null,
      "outputs": []
    },
    {
      "cell_type": "code",
      "source": [
        "#Create the Blueprint\n",
        "from flask import Blueprint, render_template\n",
        "\n",
        "auth_bp = Blueprint('auth', __name__, url_prefix='/auth')\n",
        "\n",
        "@auth_bp.route('/login')\n",
        "def login():\n",
        "    return render_template('login.html')  # Render login page"
      ],
      "metadata": {
        "id": "tpO-kkEkkWgy"
      },
      "execution_count": null,
      "outputs": []
    },
    {
      "cell_type": "code",
      "source": [
        "#Register the Blueprint\n",
        "from flask import Flask\n",
        "from auth.routes import auth_bp  # Import the Blueprint\n",
        "\n",
        "app = Flask(__name__)\n",
        "app.register_blueprint(auth_bp)  # Register the Blueprint\n",
        "\n",
        "if __name__ == '__main__':\n",
        "    app.run(debug=True)"
      ],
      "metadata": {
        "id": "a0xVav4fke3B"
      },
      "execution_count": null,
      "outputs": []
    },
    {
      "cell_type": "markdown",
      "source": [
        "**12.How do you define a custom Jinja filter in Flask?**"
      ],
      "metadata": {
        "id": "A6HLR6MIksyY"
      }
    },
    {
      "cell_type": "code",
      "source": [
        "from flask import Flask\n",
        "\n",
        "app = Flask(__name__)\n",
        "\n",
        "# Define a simple custom filter\n",
        "@app.template_filter('reverse')\n",
        "def reverse_string(value):\n",
        "    return value[::-1]  # Reverse the string\n",
        "\n",
        "if __name__ == '__main__':\n",
        "    app.run(debug=True)"
      ],
      "metadata": {
        "id": "oHv_biiWkzA-"
      },
      "execution_count": null,
      "outputs": []
    },
    {
      "cell_type": "markdown",
      "source": [
        "**13.How can you redirect with query parameters in Flask?**"
      ],
      "metadata": {
        "id": "IdBmSeFmlIwc"
      }
    },
    {
      "cell_type": "code",
      "source": [
        "from flask import Flask, redirect, url_for, request\n",
        "\n",
        "app = Flask(__name__)\n",
        "\n",
        "@app.route('/search')\n",
        "def search():\n",
        "    query = request.args.get('q', 'default')  # Get query parameter\n",
        "    return f\"Searching for: {query}\"\n",
        "\n",
        "@app.route('/redirect_search')\n",
        "def redirect_to_search():\n",
        "    return redirect(url_for('search', q='Flask Tutorial'))  # Redirect with query parameter\n",
        "\n",
        "if __name__ == '__main__':\n",
        "    app.run(debug=True)"
      ],
      "metadata": {
        "id": "o6bZRn7pldxe"
      },
      "execution_count": null,
      "outputs": []
    },
    {
      "cell_type": "markdown",
      "source": [
        "**14.How do you return JSON responses in Flask?**"
      ],
      "metadata": {
        "id": "1Vu4u6UYliYk"
      }
    },
    {
      "cell_type": "code",
      "source": [
        "from flask import Flask, jsonify\n",
        "\n",
        "app = Flask(__name__)\n",
        "\n",
        "@app.route('/user')\n",
        "def get_user():\n",
        "    user_data = {\"id\": 1, \"name\": \"Raj\", \"status\": \"active\"}\n",
        "    return jsonify(user_data)  # Converts Python dict to JSON\n",
        "\n",
        "if __name__ == '__main__':\n",
        "    app.run(debug=True)"
      ],
      "metadata": {
        "id": "ThThsGZYlizZ"
      },
      "execution_count": null,
      "outputs": []
    },
    {
      "cell_type": "markdown",
      "source": [
        "**15.How do you capture URL parameters in Flask?**"
      ],
      "metadata": {
        "id": "mtXsHp1ll0RY"
      }
    },
    {
      "cell_type": "code",
      "source": [
        "from flask import Flask\n",
        "\n",
        "app = Flask(__name__)\n",
        "\n",
        "@app.route('/user/<username>')\n",
        "def user_profile(username):\n",
        "    return f\"Hello, {username}!\"  # Dynamically displays the username\n",
        "\n",
        "if __name__ == '__main__':\n",
        "    app.run(debug=True)"
      ],
      "metadata": {
        "id": "qRmYmuW8l45Z"
      },
      "execution_count": null,
      "outputs": []
    }
  ]
}